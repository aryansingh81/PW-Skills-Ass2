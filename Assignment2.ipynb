{
 "cells": [
  {
   "cell_type": "markdown",
   "id": "a9bee695-b20c-475c-b21d-93aeccc4da08",
   "metadata": {},
   "source": [
    "Answer 1 :-"
   ]
  },
  {
   "cell_type": "markdown",
   "id": "48f431f0-7c60-49b2-b629-252957eca0df",
   "metadata": {},
   "source": [
    "In Python, you can add comments to your code to provide make notes. Comments are ignored by the Python interpreter. There are two types of comments in Python: \n",
    "1.single-line comments.\n",
    "2.multi-line comments."
   ]
  },
  {
   "cell_type": "markdown",
   "id": "19fc7a46-f617-44ba-b7b4-f6d24bcbd90f",
   "metadata": {},
   "source": [
    "1.Single-line comments: \n",
    "To add a single-line comment in Python, you can use the hash symbol (#). Anything written after the hash symbol on the same line is considered a comment and is ignored by the interpreter. Here's an example:"
   ]
  },
  {
   "cell_type": "code",
   "execution_count": 4,
   "id": "f65afb12-aa9e-427f-b462-a847dd33671e",
   "metadata": {},
   "outputs": [
    {
     "name": "stdout",
     "output_type": "stream",
     "text": [
      "Hello, World!\n"
     ]
    }
   ],
   "source": [
    "# This is a single-line comment\n",
    "print(\"Hello, World!\")"
   ]
  },
  {
   "cell_type": "markdown",
   "id": "27cd2cd9-0dd5-40a6-8375-dfa0a845751f",
   "metadata": {},
   "source": [
    "2.Multi-line comments: \n",
    "To add multi-line comments in Python, you can use triple quotes (\"\"\"). Anything written between the triple quotes is considered a comment. It is commonly used for longer comments or multi-line explanations. Here's an example:"
   ]
  },
  {
   "cell_type": "code",
   "execution_count": 3,
   "id": "29c3a1fb-808f-4551-8114-e57f5628f017",
   "metadata": {},
   "outputs": [
    {
     "name": "stdout",
     "output_type": "stream",
     "text": [
      "Hello, World!\n"
     ]
    }
   ],
   "source": [
    "\"\"\"\n",
    "This is a multi-line comment.\n",
    "Best data science course offer by PWskills.\n",
    "It is enclosed between triple quotes.\n",
    "\"\"\"\n",
    "print(\"Hello, World!\")"
   ]
  },
  {
   "cell_type": "markdown",
   "id": "0c439a56-7f74-4508-8971-cd3b77f2fff5",
   "metadata": {},
   "source": [
    "Answer 2:-"
   ]
  },
  {
   "cell_type": "markdown",
   "id": "699f4d3f-21db-475a-afe7-c52e92a4bbde",
   "metadata": {},
   "source": [
    "In Python, variables are used to store and manipulate data. A variable is a named location in memory where you can store values. Variables can hold various types of data such as numbers, strings, lists or more complex objects."
   ]
  },
  {
   "cell_type": "markdown",
   "id": "8a832561-8809-447e-860a-0ca3b48f4167",
   "metadata": {},
   "source": [
    "E.g: variable_name = value"
   ]
  },
  {
   "cell_type": "code",
   "execution_count": 5,
   "id": "25cd89dc-98aa-4654-8abf-bc264b242ae3",
   "metadata": {},
   "outputs": [
    {
     "name": "stdout",
     "output_type": "stream",
     "text": [
      "Aryan Singh 19\n"
     ]
    }
   ],
   "source": [
    "name = \"Aryan Singh\"\n",
    "age = 19\n",
    "print(name,age)"
   ]
  },
  {
   "cell_type": "markdown",
   "id": "c131f712-114d-46b3-a7ae-7ababbc32a30",
   "metadata": {},
   "source": [
    "Answer 3:-"
   ]
  },
  {
   "cell_type": "markdown",
   "id": "d18c97ed-eb26-40c3-8971-9469870facdb",
   "metadata": {},
   "source": [
    "In Python, you can convert one data type to another using type conversion functions or by using the constructor functions of the desired data type."
   ]
  },
  {
   "cell_type": "markdown",
   "id": "a8a81d91-4b14-40d7-9a6e-41475f5f5fbb",
   "metadata": {},
   "source": [
    "1.Implicit Type Conversion (Coercion):\n",
    "Python automatically performs implicit type conversion in certain situations, such as when performing operations between different data types. For     example:"
   ]
  },
  {
   "cell_type": "code",
   "execution_count": 6,
   "id": "950c7f1b-c798-45d2-a7b0-9c6c39bae39c",
   "metadata": {},
   "outputs": [
    {
     "name": "stdout",
     "output_type": "stream",
     "text": [
      "13.14\n"
     ]
    }
   ],
   "source": [
    "x = 10     \n",
    "y = 3.14   \n",
    "z = x + y \n",
    "print(z)"
   ]
  },
  {
   "cell_type": "markdown",
   "id": "6a9a02f3-e840-4d43-884f-74a5059e119c",
   "metadata": {},
   "source": [
    "2.Explicit Type Conversion (Type Casting):\n",
    "Explicit type conversion involves manually converting a value from one data type to another. Python provides several built-in functions for explicit type conversion:\n",
    "\n",
    "int(): Converts a value to an integer data type.\n",
    "float(): Converts a value to a floating-point data type.\n",
    "str(): Converts a value to a string data type.\n",
    "list(): Converts a value to a list data type.\n",
    "tuple(): Converts a value to a tuple data type.\n",
    "set(): Converts a value to a set data type.\n",
    "dict(): Converts a value to a dictionary data type.\n",
    "Here are some examples:"
   ]
  },
  {
   "cell_type": "code",
   "execution_count": 7,
   "id": "ffb0d57d-7e14-4147-9ac1-db4ac3337f6a",
   "metadata": {},
   "outputs": [
    {
     "name": "stdout",
     "output_type": "stream",
     "text": [
      "10.0\n",
      "3\n",
      "42\n",
      "(1, 2, 3)\n"
     ]
    }
   ],
   "source": [
    "x = 10\n",
    "y = float(x)   \n",
    "print(y)\n",
    "a = 3.14\n",
    "b = int(a)     \n",
    "print(b)\n",
    "c = \"42\"\n",
    "d = int(c)     \n",
    "print(d)\n",
    "e = [1, 2, 3]\n",
    "f = tuple(e)\n",
    "print(f)"
   ]
  },
  {
   "cell_type": "markdown",
   "id": "d37fc896-0df3-4893-9ac5-8f28fd6b37fc",
   "metadata": {},
   "source": [
    "Answer 4:-"
   ]
  },
  {
   "cell_type": "markdown",
   "id": "2bd22d48-9fd8-4481-84ae-51c6909fdb4b",
   "metadata": {},
   "source": [
    "1.Open a command line interface\n",
    "2.Navigate to the directory where you saved the Python script\n",
    "3.you can run the Python script by typing 'python filename.py'\n",
    "4.The Python interpreter will execute the script, and the output (if any) will be displayed in the command line interface."
   ]
  },
  {
   "cell_type": "markdown",
   "id": "ceb90e2a-c89e-4aae-b268-56385f749740",
   "metadata": {},
   "source": [
    "Answer 5:-"
   ]
  },
  {
   "cell_type": "code",
   "execution_count": 2,
   "id": "4fa2c40b-be8a-4fd9-b232-04ce1b18f680",
   "metadata": {},
   "outputs": [
    {
     "name": "stdout",
     "output_type": "stream",
     "text": [
      "[2, 3]\n"
     ]
    }
   ],
   "source": [
    "my_list = [1, 2, 3, 4, 5]\n",
    "sub_list = my_list[1:3]\n",
    "print(sub_list)"
   ]
  },
  {
   "cell_type": "markdown",
   "id": "146d2809-39a6-4d85-b427-ae1e9dd98731",
   "metadata": {},
   "source": [
    "Answer 6:-"
   ]
  },
  {
   "cell_type": "markdown",
   "id": "1c49f02a-3372-4d4e-8cb0-39999ca19931",
   "metadata": {},
   "source": [
    "In mathematics, a complex number is a number that comprises both a real part and an imaginary part. It is written in the form \"a + bi\", where \"a\" represents the real part and \"b\" represents the imaginary part.\n",
    "In Python, complex numbers are represented using the built-in 'complex' data type."
   ]
  },
  {
   "cell_type": "code",
   "execution_count": 3,
   "id": "ceaf1fb7-bc9b-4747-ad88-879dc776e537",
   "metadata": {},
   "outputs": [
    {
     "name": "stdout",
     "output_type": "stream",
     "text": [
      "(2+3j)\n"
     ]
    }
   ],
   "source": [
    "z1 = complex(2, 3)\n",
    "print(z1)"
   ]
  },
  {
   "cell_type": "markdown",
   "id": "cfe97b96-87ce-4415-8e4c-5be95ac47b8e",
   "metadata": {},
   "source": [
    "Answer 7:-"
   ]
  },
  {
   "cell_type": "code",
   "execution_count": 4,
   "id": "dd9b80dc-1b24-425e-ad8c-e75c43bf9e9b",
   "metadata": {},
   "outputs": [
    {
     "name": "stdout",
     "output_type": "stream",
     "text": [
      "25\n"
     ]
    }
   ],
   "source": [
    "age=25\n",
    "print(age)"
   ]
  },
  {
   "cell_type": "markdown",
   "id": "b503a118-ea24-41ff-ab54-001347b21ccb",
   "metadata": {},
   "source": [
    "Answer 8:-"
   ]
  },
  {
   "cell_type": "code",
   "execution_count": 5,
   "id": "be078e70-5cd6-423c-84c0-3ff11014f59e",
   "metadata": {},
   "outputs": [
    {
     "name": "stdout",
     "output_type": "stream",
     "text": [
      "<class 'float'>\n"
     ]
    }
   ],
   "source": [
    "price = 9.99\n",
    "print(type(price))"
   ]
  },
  {
   "cell_type": "markdown",
   "id": "28ffec92-c397-47b3-b8c8-a7b65ddfe4d7",
   "metadata": {},
   "source": [
    "Answer 9:-"
   ]
  },
  {
   "cell_type": "code",
   "execution_count": 6,
   "id": "bbb88bd7-db4b-46e3-ba81-62c0bf06c19c",
   "metadata": {},
   "outputs": [
    {
     "name": "stdout",
     "output_type": "stream",
     "text": [
      "Aryan Singh\n"
     ]
    }
   ],
   "source": [
    "name=\"Aryan Singh\"\n",
    "print(name)"
   ]
  },
  {
   "cell_type": "markdown",
   "id": "33e0d75b-f8f9-4a3d-9f11-929a395dc6ce",
   "metadata": {},
   "source": [
    "Answer 10:-"
   ]
  },
  {
   "cell_type": "code",
   "execution_count": 7,
   "id": "6ec8a4a7-bd19-46c5-9ee8-34bf6d303492",
   "metadata": {},
   "outputs": [
    {
     "name": "stdout",
     "output_type": "stream",
     "text": [
      "World\n"
     ]
    }
   ],
   "source": [
    "string = \"Hello, World!\"\n",
    "substring = string[7:12]\n",
    "print(substring)"
   ]
  },
  {
   "cell_type": "markdown",
   "id": "f5c269c3-cc50-4942-afa7-3bc706864e51",
   "metadata": {},
   "source": [
    "Answer 11:-"
   ]
  },
  {
   "cell_type": "code",
   "execution_count": 8,
   "id": "075ab21d-b35e-456d-83cc-078e1ad9e556",
   "metadata": {},
   "outputs": [],
   "source": [
    "is_student = True\n",
    "is_student = False"
   ]
  },
  {
   "cell_type": "code",
   "execution_count": null,
   "id": "dede6b8a-c377-4e19-be63-47b414253f21",
   "metadata": {},
   "outputs": [],
   "source": []
  }
 ],
 "metadata": {
  "kernelspec": {
   "display_name": "Python 3 (ipykernel)",
   "language": "python",
   "name": "python3"
  },
  "language_info": {
   "codemirror_mode": {
    "name": "ipython",
    "version": 3
   },
   "file_extension": ".py",
   "mimetype": "text/x-python",
   "name": "python",
   "nbconvert_exporter": "python",
   "pygments_lexer": "ipython3",
   "version": "3.10.8"
  }
 },
 "nbformat": 4,
 "nbformat_minor": 5
}
